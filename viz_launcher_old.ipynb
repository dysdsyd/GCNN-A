{
 "cells": [
  {
   "cell_type": "markdown",
   "metadata": {
    "heading_collapsed": true
   },
   "source": [
    "# Initialization"
   ]
  },
  {
   "cell_type": "code",
   "execution_count": null,
   "metadata": {
    "hidden": true
   },
   "outputs": [],
   "source": [
    "%matplotlib inline\n",
    "%reload_ext autoreload\n",
    "%autoreload 2\n",
    "from IPython.core.display import display, HTML\n",
    "display(HTML(\"<style>.container { width:100% !important; }</style>\"))"
   ]
  },
  {
   "cell_type": "code",
   "execution_count": null,
   "metadata": {
    "hidden": true
   },
   "outputs": [],
   "source": [
    "import torch, os, shutil, pickle\n",
    "from tqdm import tqdm\n",
    "from glob import glob\n",
    "from pytorch3d.io import load_obj, save_obj\n",
    "from pytorch3d.ops import sample_points_from_meshes\n",
    "from pytorch3d.structures import Meshes\n",
    "import scipy.io as sio\n",
    "import pandas as pd\n",
    "from gcnna.launcher import FeatureVisualization\n",
    "from GEOMetrics.layers import * \n",
    "from GEOMetrics.models import *\n",
    "from GEOMetrics.voxel  import voxel2obj\n",
    "from GEOMetrics.utils import Voxel_loader, GCN_Loader\n",
    "from mpl_toolkits.mplot3d import Axes3D\n",
    "import matplotlib.pyplot as plt\n",
    "import matplotlib as mpl\n",
    "import matplotlib.animation #import FuncAnimation\n",
    "from matplotlib.animation import FuncAnimation\n",
    "mpl.rcParams['savefig.dpi'] = 80\n",
    "mpl.rcParams['figure.dpi'] = 80\n",
    "from pytorch3d.loss import chamfer_distance, mesh_edge_loss, mesh_laplacian_smoothing, mesh_normal_consistency"
   ]
  },
  {
   "cell_type": "code",
   "execution_count": null,
   "metadata": {
    "hidden": true
   },
   "outputs": [],
   "source": [
    "from plotly.offline import plot, iplot, init_notebook_mode\n",
    "import plotly.graph_objects as go\n",
    "init_notebook_mode(connected=True)"
   ]
  },
  {
   "cell_type": "code",
   "execution_count": null,
   "metadata": {
    "hidden": true
   },
   "outputs": [],
   "source": [
    "objects = ['bench','cabinet','car','cellphone','chair','lamp','monitor','plane','rifle','sofa','speaker','table','watercraft']\n",
    "labels = {'04379243':'table','03211117':'monitor','04401088':'cellphone','04530566': 'watercraft',  '03001627' : 'chair','03636649' : 'lamp',  '03691459': 'speaker' ,  '02828884':'bench',\n",
    "'02691156': 'plane', '02808440': 'bathtub',  '02871439': 'bookcase',\n",
    "'02773838': 'bag', '02801938': 'basket', '02828884' : 'bench','02880940': 'bowl' ,\n",
    "'02924116': 'bus', '02933112': 'cabinet', '02942699': 'camera', '02958343': 'car', '03207941': 'dishwasher',\n",
    "'03337140': 'file', '03624134': 'knife', '03642806': 'laptop', '03710193': 'mailbox',\n",
    "'03761084': 'microwave', '03928116': 'piano', '03938244':'pillow', '03948459': 'pistol', '04004475': 'printer',\n",
    "'04099429': 'rocket', '04256520': 'sofa', '04554684': 'washer', '04090263': 'rifle'}"
   ]
  },
  {
   "cell_type": "markdown",
   "metadata": {},
   "source": [
    "# Visualization Fns"
   ]
  },
  {
   "cell_type": "code",
   "execution_count": null,
   "metadata": {},
   "outputs": [],
   "source": [
    "save_obj()"
   ]
  },
  {
   "cell_type": "code",
   "execution_count": null,
   "metadata": {},
   "outputs": [],
   "source": [
    "from PyGEL3D import gel\n",
    "from PyGEL3D import js\n",
    "def plot_mesh(mesh=None, verts=None, faces=None):\n",
    "    if mesh != None:\n",
    "        save_obj('mesh.obj', mesh.verts_packed(), mesh.faces_packed())\n",
    "    else:\n",
    "        save_obj('mesh.obj', verts, faces)\n",
    "    js.set_export_mode()\n",
    "    m = gel.obj_load('mesh.obj')\n",
    "    js.display(m, smooth=False)\n",
    "    \n",
    "def plot_pointcloud(mesh, title=\"\"):\n",
    "    # Sample points uniformly from the surface of the mesh.\n",
    "    points = sample_points_from_meshes(mesh, 5000)\n",
    "    x, y, z = points.clone().detach().cpu().squeeze().unbind(1)    \n",
    "    fig = plt.figure(figsize=(5, 5))\n",
    "    ax = Axes3D(fig)\n",
    "    ax.scatter3D(x, z, -y)\n",
    "    ax.set_xlabel('x')\n",
    "    ax.set_ylabel('z')\n",
    "    ax.set_zlabel('y')\n",
    "    ax.set_title(title)\n",
    "    ax.view_init(190, 30)\n",
    "    plt.show()\n",
    "\n",
    "def load_mesh(pth):\n",
    "    verts, faces, aux = load_obj(pth)\n",
    "    mesh = Meshes(verts=[verts], faces=[faces.verts_idx])\n",
    "    return mesh.cuda()\n"
   ]
  },
  {
   "cell_type": "markdown",
   "metadata": {},
   "source": [
    "# Load Trained Model"
   ]
  },
  {
   "cell_type": "code",
   "execution_count": null,
   "metadata": {},
   "outputs": [],
   "source": [
    "path = '/scratch/jiadeng_root/jiadeng/shared_data/datasets/GEOMetrics/shapenet/'\n",
    "path = glob(path+'/*/*')"
   ]
  },
  {
   "cell_type": "markdown",
   "metadata": {},
   "source": [
    "### 0N-GCN AE with Lat Dim = 50 - https://github.com/EdwardSmith1884/GEOMetrics"
   ]
  },
  {
   "cell_type": "code",
   "execution_count": null,
   "metadata": {
    "scrolled": true
   },
   "outputs": [],
   "source": [
    "enc_zgcn = MeshEncoder(50).cuda()\n",
    "dec_zgcn = Decoder(50).cuda()\n",
    "enc_zgcn.load_state_dict(torch.load('GEOMetrics/checkpoint/zgcn_run_norm/encoder_of'))\n",
    "dec_zgcn.load_state_dict(torch.load('GEOMetrics/checkpoint/zgcn_run_norm/decoder'))"
   ]
  },
  {
   "cell_type": "markdown",
   "metadata": {},
   "source": [
    "### 0N-GCN AE with Lat Dim = 50"
   ]
  },
  {
   "cell_type": "code",
   "execution_count": null,
   "metadata": {
    "scrolled": true
   },
   "outputs": [],
   "source": [
    "enc_zgcn_old = MeshEncoder(50).cuda()\n",
    "dec_zgcn_old = Decoder(50).cuda()\n",
    "enc_zgcn_old.load_state_dict(torch.load('GEOMetrics/checkpoint/zeron_gcn_vanilla/encoder'))\n",
    "dec_zgcn_old.load_state_dict(torch.load('GEOMetrics/checkpoint/zeron_gcn_vanilla/decoder'))"
   ]
  },
  {
   "cell_type": "markdown",
   "metadata": {},
   "source": [
    "### GCN AE with Lat Dim  = 50"
   ]
  },
  {
   "cell_type": "code",
   "execution_count": null,
   "metadata": {},
   "outputs": [],
   "source": [
    "enc_gcn = MeshEncoderGCN(50).cuda()\n",
    "dec_gcn = Decoder(50).cuda()\n",
    "enc_gcn.load_state_dict(torch.load('GEOMetrics/checkpoint/gcn_run_norm/encoder_of'))\n",
    "dec_gcn.load_state_dict(torch.load('GEOMetrics/checkpoint/gcn_run_norm/decoder'))"
   ]
  },
  {
   "cell_type": "markdown",
   "metadata": {},
   "source": [
    "### Data Loader"
   ]
  },
  {
   "cell_type": "code",
   "execution_count": null,
   "metadata": {},
   "outputs": [],
   "source": [
    "objects = ['chair']#['bench','sofa','chair','lamp','table']\n",
    "path = '/scratch/jiadeng_root/jiadeng/shared_data/datasets/GEOMetrics/shapenet/'\n",
    "paths = []\n",
    "for p in glob(path+'/*'):\n",
    "    if p.split('/')[-1] in objects:\n",
    "        cls_pths = glob(p+'/*')        \n",
    "        paths += cls_pths\n",
    "# load data\n",
    "data = Voxel_loader(paths)"
   ]
  },
  {
   "cell_type": "code",
   "execution_count": null,
   "metadata": {},
   "outputs": [],
   "source": [
    "norm = FeatureVisualization.normalize_verts"
   ]
  },
  {
   "cell_type": "code",
   "execution_count": null,
   "metadata": {},
   "outputs": [],
   "source": [
    "# x = []\n",
    "# y = []\n",
    "# z = []\n",
    "# for batch in tqdm(data):\n",
    "#     verts = batch['verts']\n",
    "#     x.append((verts[:,0].max(), verts[:,0].min()))\n",
    "#     y.append((verts[:,1].max(), verts[:,1].min()))\n",
    "#     z.append((verts[:,2].max(), verts[:,2].min()))"
   ]
  },
  {
   "cell_type": "code",
   "execution_count": null,
   "metadata": {},
   "outputs": [],
   "source": [
    "# batch = data[0]\n",
    "# plot_mesh(None, norm(None,batch['verts']), batch['faces']) \n",
    "# batch['id'], batch['verts'].shape"
   ]
  },
  {
   "cell_type": "markdown",
   "metadata": {
    "heading_collapsed": true
   },
   "source": [
    "# Deep Dream for each channel"
   ]
  },
  {
   "cell_type": "markdown",
   "metadata": {
    "heading_collapsed": true,
    "hidden": true
   },
   "source": [
    "## Some Experiment"
   ]
  },
  {
   "cell_type": "code",
   "execution_count": null,
   "metadata": {
    "hidden": true
   },
   "outputs": [],
   "source": [
    "from pytorch3d.utils import ico_sphere\n",
    "from GEOMetrics.ico_objects import ico_disk\n",
    "from torch.autograd import Variable"
   ]
  },
  {
   "cell_type": "code",
   "execution_count": null,
   "metadata": {
    "hidden": true
   },
   "outputs": [],
   "source": [
    "norm = FeatureVisualization.normalize_verts"
   ]
  },
  {
   "cell_type": "code",
   "execution_count": null,
   "metadata": {
    "hidden": true
   },
   "outputs": [],
   "source": [
    "# m = ico_sphere(2)\n",
    "# deform_verts = Variable(norm(None, m.verts_packed()), requires_grad = True)\n",
    "# m_ = Meshes(verts=[deform_verts], faces=[m.faces_packed()])\n",
    "# plot_mesh(m_)"
   ]
  },
  {
   "cell_type": "markdown",
   "metadata": {
    "hidden": true
   },
   "source": [
    "## Dreaming"
   ]
  },
  {
   "cell_type": "code",
   "execution_count": null,
   "metadata": {
    "hidden": true
   },
   "outputs": [],
   "source": [
    "from IPython.display import Javascript\n",
    "display(Javascript('IPython.notebook.execute_cells_above()'))"
   ]
  },
  {
   "cell_type": "code",
   "execution_count": null,
   "metadata": {
    "hidden": true
   },
   "outputs": [],
   "source": [
    "enc_zgcn_old.modules"
   ]
  },
  {
   "cell_type": "code",
   "execution_count": null,
   "metadata": {
    "hidden": true
   },
   "outputs": [],
   "source": [
    "viz_dl = FeatureVisualization(enc_zgcn_old, 'sphere', 'dream_layer')  "
   ]
  },
  {
   "cell_type": "code",
   "execution_count": null,
   "metadata": {
    "hidden": true,
    "scrolled": false
   },
   "outputs": [],
   "source": [
    "viz_dl.dream_layer(layer='h1', filter=0, iters=200, ico_level=2)"
   ]
  },
  {
   "cell_type": "code",
   "execution_count": null,
   "metadata": {
    "hidden": true
   },
   "outputs": [],
   "source": [
    "plot_mesh(viz_dl.new_src_mesh)"
   ]
  },
  {
   "cell_type": "code",
   "execution_count": null,
   "metadata": {
    "hidden": true
   },
   "outputs": [],
   "source": [
    "# trg_obj_pth = '/scratch/jiadeng_root/jiadeng/shared_data/datasets/GEOMetrics/shapenet/chair/47dde30e987efc6c8687ff9b0b4e4ac/model.obj'\n",
    "trg_obj_pth = os.path.join(batch['id'], 'model.obj')\n",
    "feat_inv = FeatureVisualization(enc, 'disk')\n",
    "feat_inv.invert_feats(trg_obj_pth, iters=150, target_layer='h11') #trg_feats = pca_chair.cuda())"
   ]
  },
  {
   "cell_type": "code",
   "execution_count": null,
   "metadata": {
    "hidden": true,
    "scrolled": false
   },
   "outputs": [],
   "source": [
    "plot_mesh(feat_inv.new_src_mesh)"
   ]
  },
  {
   "cell_type": "code",
   "execution_count": null,
   "metadata": {
    "hidden": true
   },
   "outputs": [],
   "source": [
    "obj_path = os.path.join(res_path, 'feat_inv', feat_inv.src_mesh_name)\n",
    "save_obj(os.path.join(obj_path,'base.obj'), feat_inv.trg_mesh.verts_packed(), feat_inv.trg_mesh.faces_packed())"
   ]
  },
  {
   "cell_type": "markdown",
   "metadata": {
    "heading_collapsed": true
   },
   "source": [
    "# Feature Inversion"
   ]
  },
  {
   "cell_type": "code",
   "execution_count": null,
   "metadata": {
    "hidden": true
   },
   "outputs": [],
   "source": [
    "batch = data[0]\n",
    "# plot_mesh(None, norm(None,batch['verts']), batch['faces']) \n",
    "batch['id'], batch['verts'].shape"
   ]
  },
  {
   "cell_type": "code",
   "execution_count": null,
   "metadata": {
    "hidden": true
   },
   "outputs": [],
   "source": [
    "exp = 'feat_inv_vertex'\n",
    "viz_fi = FeatureVisualization(enc_gcn, 'disk', exp)"
   ]
  },
  {
   "cell_type": "code",
   "execution_count": null,
   "metadata": {
    "hidden": true
   },
   "outputs": [],
   "source": [
    "weights = {'cd_loss': 1, 'lap_loss': 1, 'edge_loss':1}"
   ]
  },
  {
   "cell_type": "code",
   "execution_count": null,
   "metadata": {
    "hidden": true,
    "scrolled": false
   },
   "outputs": [],
   "source": [
    "%matplotlib inline\n",
    "viz_fi.invert_feats(trg_obj_path=os.path.join(batch['id'], 'model.obj'), layer='h11', filter=None, lr = 0.07, weights=weights, \n",
    "                    iters=100, ico_level=3, verbose=True)"
   ]
  },
  {
   "cell_type": "code",
   "execution_count": null,
   "metadata": {
    "hidden": true,
    "scrolled": false
   },
   "outputs": [],
   "source": [
    "plot_mesh(viz_fi.new_src_mesh)"
   ]
  },
  {
   "cell_type": "code",
   "execution_count": null,
   "metadata": {
    "hidden": true,
    "scrolled": false
   },
   "outputs": [],
   "source": [
    "# %matplotlib inline\n",
    "# for i in range(60):\n",
    "#     viz_fi.invert_feats(trg_obj_path=os.path.join(batch['id'], 'model.obj'), layer='h1', filter=i, lr = 0.01, weights=weights, iters=300, ico_level=3)"
   ]
  },
  {
   "cell_type": "markdown",
   "metadata": {},
   "source": [
    "# obj2gif"
   ]
  },
  {
   "cell_type": "code",
   "execution_count": null,
   "metadata": {},
   "outputs": [],
   "source": [
    "from GEOMetrics.obj2gif import render_main"
   ]
  },
  {
   "cell_type": "code",
   "execution_count": null,
   "metadata": {},
   "outputs": [],
   "source": [
    "import sys\n",
    "sys.path.append('PyHTMLWriter/src/')\n",
    "from Element import Element\n",
    "from TableRow import TableRow\n",
    "from Table import Table\n",
    "from TableWriter import TableWriter\n",
    "import numpy as np"
   ]
  },
  {
   "cell_type": "code",
   "execution_count": null,
   "metadata": {},
   "outputs": [],
   "source": [
    "# exp = 'feat_inv'\n",
    "dir_pth = 'results/gcnna_data/'+exp\n",
    "mesh_pths = glob(dir_pth+'/*.obj')"
   ]
  },
  {
   "cell_type": "code",
   "execution_count": null,
   "metadata": {},
   "outputs": [],
   "source": [
    "exp"
   ]
  },
  {
   "cell_type": "code",
   "execution_count": null,
   "metadata": {
    "scrolled": true
   },
   "outputs": [],
   "source": [
    "for pth in tqdm(mesh_pths):\n",
    "    render_main(pth, camera_elevation=45, camera_rdistance=2, batch_size=30, image_size=300, output_filename=dir_pth)"
   ]
  },
  {
   "cell_type": "code",
   "execution_count": null,
   "metadata": {},
   "outputs": [],
   "source": [
    "gif_pths = glob(dir_pth+'/*.gif')\n",
    "gif_pths.sort()"
   ]
  },
  {
   "cell_type": "code",
   "execution_count": null,
   "metadata": {
    "code_folding": []
   },
   "outputs": [],
   "source": [
    "t = Table()\n",
    "for r in range(0,len(gif_pths),3):\n",
    "    i = int(r)\n",
    "    if r == 0:\n",
    "        r = TableRow(isHeader = True)\n",
    "    else:\n",
    "        r = TableRow()\n",
    "    for e in range(i, i+3):\n",
    "        j=int(e)\n",
    "        if j<len(gif_pths):\n",
    "            e = Element()\n",
    "            e.addTxt(gif_pths[j].split('/')[-1])\n",
    "            e.addGIF(gif_pths[j])\n",
    "    #         e.addTxt('<img src=\"'+gif_pths[i]+'\" width=\"512\"/>')\n",
    "    #         e.addImg(gif_pths[i])\n",
    "            r.addElement(e)\n",
    "    t.addRow(r)\n",
    "tw = TableWriter(t, exp)\n",
    "tw.write()"
   ]
  },
  {
   "cell_type": "code",
   "execution_count": null,
   "metadata": {},
   "outputs": [],
   "source": [
    "gif_pths"
   ]
  },
  {
   "cell_type": "code",
   "execution_count": null,
   "metadata": {},
   "outputs": [],
   "source": []
  },
  {
   "cell_type": "markdown",
   "metadata": {},
   "source": [
    "# Exploring trained model"
   ]
  },
  {
   "cell_type": "code",
   "execution_count": null,
   "metadata": {},
   "outputs": [],
   "source": [
    "batch = data[0]\n",
    "mesh = Meshes(verts=[norm(None, batch['verts'])], faces=[batch['faces']]).cuda()\n",
    "batch['id'], batch['verts'].shape"
   ]
  },
  {
   "cell_type": "code",
   "execution_count": null,
   "metadata": {},
   "outputs": [],
   "source": [
    "plot_mesh(mesh)"
   ]
  },
  {
   "cell_type": "code",
   "execution_count": null,
   "metadata": {},
   "outputs": [],
   "source": [
    "def decode(enc, dec, mesh=None, threshold = 0.3, latent = None):\n",
    "    if latent == None:\n",
    "        latent  = enc.extract_feats(mesh, 'latent')\n",
    "    voxel_pred = dec(latent)\n",
    "    voxel_pred_ = voxel_pred.clone()\n",
    "    voxel_pred_[voxel_pred > threshold] = 1  \n",
    "    voxel_pred_[voxel_pred<= threshold] = 0\n",
    "    fig = plt.figure()\n",
    "    ax = fig.gca(projection='3d')\n",
    "    ax.voxels(voxel_pred_.squeeze(0))\n",
    "    plt.show()"
   ]
  },
  {
   "cell_type": "code",
   "execution_count": null,
   "metadata": {},
   "outputs": [],
   "source": [
    "# sphere =  12, 42, 162, 642, 2562, \n",
    "# disk = 9, 25, 81, 289, 1089, 4255"
   ]
  },
  {
   "cell_type": "code",
   "execution_count": null,
   "metadata": {
    "scrolled": true
   },
   "outputs": [],
   "source": [
    "voxel_gt = batch['voxels'].unsqueeze(0)\n",
    "%matplotlib inline\n",
    "fig = plt.figure()\n",
    "ax = fig.gca(projection='3d')\n",
    "ax.voxels(voxel_gt.squeeze(0))\n",
    "plt.show()"
   ]
  },
  {
   "cell_type": "code",
   "execution_count": null,
   "metadata": {},
   "outputs": [],
   "source": [
    "decode(enc=enc_gcn, dec=dec_gcn, mesh=mesh, threshold=0.06)"
   ]
  },
  {
   "cell_type": "code",
   "execution_count": null,
   "metadata": {
    "scrolled": false
   },
   "outputs": [],
   "source": [
    "decode(enc=enc_zgcn, dec=dec_zgcn, mesh=mesh, threshold=0.25)"
   ]
  },
  {
   "cell_type": "code",
   "execution_count": null,
   "metadata": {
    "scrolled": true
   },
   "outputs": [],
   "source": [
    "mesh_ = load_mesh(os.path.join(batch['id'], 'model.obj'))\n",
    "decode(enc=enc_zgcn_old, dec=dec_zgcn_old, mesh=mesh_, threshold=0.3)"
   ]
  },
  {
   "cell_type": "markdown",
   "metadata": {
    "heading_collapsed": true
   },
   "source": [
    "# Latent Space Exploration"
   ]
  },
  {
   "cell_type": "code",
   "execution_count": null,
   "metadata": {
    "hidden": true
   },
   "outputs": [],
   "source": [
    "objects = ['chair', 'table']#['bench','sofa','chair','lamp','table']\n",
    "path = '/scratch/jiadeng_root/jiadeng/shared_data/datasets/GEOMetrics/shapenet/'\n",
    "paths = []\n",
    "for p in glob(path+'/*'):\n",
    "    if p.split('/')[-1] in objects:\n",
    "        cls_pths = glob(p+'/*')        \n",
    "        paths += cls_pths[:100]\n",
    "# load data\n",
    "data = Voxel_loader(paths)"
   ]
  },
  {
   "cell_type": "code",
   "execution_count": null,
   "metadata": {
    "hidden": true
   },
   "outputs": [],
   "source": [
    "for batch in tqdm(data):\n",
    "    break"
   ]
  },
  {
   "cell_type": "code",
   "execution_count": null,
   "metadata": {
    "hidden": true
   },
   "outputs": [],
   "source": [
    "mesh = Meshes(verts=[norm(None,batch['verts'])], faces=[batch['faces']])"
   ]
  },
  {
   "cell_type": "code",
   "execution_count": null,
   "metadata": {
    "hidden": true
   },
   "outputs": [],
   "source": [
    "latent = []\n",
    "for batch in tqdm(data):\n",
    "    mesh = Meshes(verts=[norm(None, batch['verts'])], faces=[batch['faces']])\n",
    "    cls = batch['id'].split('/')[-2]\n",
    "    try:\n",
    "        feats = list(enc_gcn.extract_feats(mesh.cuda(), 'latent').detach().cpu().numpy()[0])\n",
    "        feats.insert(0, cls)\n",
    "        latent.append(feats)\n",
    "    except:\n",
    "        print('skipped')"
   ]
  },
  {
   "cell_type": "code",
   "execution_count": null,
   "metadata": {
    "hidden": true
   },
   "outputs": [],
   "source": [
    "latent = pd.DataFrame(latent)"
   ]
  },
  {
   "cell_type": "code",
   "execution_count": null,
   "metadata": {
    "hidden": true
   },
   "outputs": [],
   "source": [
    "# latent = pd.read_csv('latent.csv')"
   ]
  },
  {
   "cell_type": "code",
   "execution_count": null,
   "metadata": {
    "hidden": true
   },
   "outputs": [],
   "source": [
    "X, y = latent.iloc[:,1:].values, latent.iloc[:,0].values"
   ]
  },
  {
   "cell_type": "code",
   "execution_count": null,
   "metadata": {
    "hidden": true
   },
   "outputs": [],
   "source": [
    "from sklearn.decomposition import PCA\n",
    "from sklearn.manifold import TSNE\n",
    "import matplotlib.pyplot as plt\n",
    "from mpl_toolkits.mplot3d import Axes3D\n",
    "import seaborn as sns"
   ]
  },
  {
   "cell_type": "code",
   "execution_count": null,
   "metadata": {
    "hidden": true
   },
   "outputs": [],
   "source": [
    "tsne = TSNE(n_components=2, verbose=1, perplexity=40, n_iter=3000)\n",
    "tsne_results = tsne.fit_transform(X)"
   ]
  },
  {
   "cell_type": "code",
   "execution_count": null,
   "metadata": {
    "hidden": true
   },
   "outputs": [],
   "source": [
    "df = pd.DataFrame()\n",
    "df['y'] = y\n",
    "df['tsne-2d-one'] = tsne_results[:,0]\n",
    "df['tsne-2d-two'] = tsne_results[:,1]"
   ]
  },
  {
   "cell_type": "code",
   "execution_count": null,
   "metadata": {
    "hidden": true
   },
   "outputs": [],
   "source": [
    "plt.figure(figsize=(16,10))\n",
    "sns.scatterplot(\n",
    "    x=\"tsne-2d-one\", y=\"tsne-2d-two\",\n",
    "    hue=\"y\",\n",
    "    data=df,\n",
    "    legend=\"full\",\n",
    "    alpha=0.6\n",
    ")"
   ]
  },
  {
   "cell_type": "code",
   "execution_count": null,
   "metadata": {
    "hidden": true
   },
   "outputs": [],
   "source": []
  },
  {
   "cell_type": "code",
   "execution_count": null,
   "metadata": {
    "hidden": true,
    "scrolled": true
   },
   "outputs": [],
   "source": [
    "df_chair = latent.loc[latent['0'] =='chair']\n",
    "X_chair = df_chair.iloc[:,1:].values"
   ]
  },
  {
   "cell_type": "code",
   "execution_count": null,
   "metadata": {
    "hidden": true
   },
   "outputs": [],
   "source": [
    "X_chair.T.shape"
   ]
  },
  {
   "cell_type": "code",
   "execution_count": null,
   "metadata": {
    "hidden": true
   },
   "outputs": [],
   "source": [
    "max_chair = torch.Tensor(np.max(X_chair.T, axis=1)).cuda()"
   ]
  },
  {
   "cell_type": "code",
   "execution_count": null,
   "metadata": {
    "hidden": true
   },
   "outputs": [],
   "source": [
    "max_chair.shape"
   ]
  },
  {
   "cell_type": "code",
   "execution_count": null,
   "metadata": {
    "hidden": true
   },
   "outputs": [],
   "source": [
    "pca = PCA(n_components=1)\n",
    "pca_chair = pca.fit_transform(X_chair.T)\n",
    "pca_chair = torch.Tensor(pca_chair).view(-1)\n",
    "np.sum(pca.explained_variance_ratio_)"
   ]
  },
  {
   "cell_type": "code",
   "execution_count": null,
   "metadata": {
    "hidden": true
   },
   "outputs": [],
   "source": [
    "pca_chair.shape"
   ]
  },
  {
   "cell_type": "code",
   "execution_count": null,
   "metadata": {
    "hidden": true
   },
   "outputs": [],
   "source": [
    "path = '/scratch/jiadeng_root/jiadeng/shared_data/datasets/SICGAN_data/'\n",
    "labels = {'04379243':'table','03211117':'monitor','04401088':'cellphone','04530566': 'watercraft',  '03001627' : 'chair','03636649' : 'lamp',  '03691459': 'speaker' ,  '02828884':'bench',\n",
    "'02691156': 'plane', '02808440': 'bathtub',  '02871439': 'bookcase',\n",
    "'02773838': 'bag', '02801938': 'basket', '02828884' : 'bench','02880940': 'bowl' ,\n",
    "'02924116': 'bus', '02933112': 'cabinet', '02942699': 'camera', '02958343': 'car', '03207941': 'dishwasher',\n",
    "'03337140': 'file', '03624134': 'knife', '03642806': 'laptop', '03710193': 'mailbox',\n",
    "'03761084': 'microwave', '03928116': 'piano', '03938244':'pillow', '03948459': 'pistol', '04004475': 'printer',\n",
    "'04099429': 'rocket', '04256520': 'sofa', '04554684': 'washer', '04090263': 'rifle'}"
   ]
  },
  {
   "cell_type": "code",
   "execution_count": null,
   "metadata": {
    "hidden": true
   },
   "outputs": [],
   "source": [
    "import json\n",
    "path = '/scratch/jiadeng_root/jiadeng/shared_data/datasets/SICGAN_data/'\n",
    "with open(path+'summary.json', \"r\") as f:\n",
    "    summary = json.load(f)\n",
    "for sid in summary:\n",
    "    print(labels[sid]+' : '+str(len(set(summary[sid]))))"
   ]
  },
  {
   "cell_type": "code",
   "execution_count": null,
   "metadata": {
    "hidden": true
   },
   "outputs": [],
   "source": []
  }
 ],
 "metadata": {
  "kernelspec": {
   "display_name": "dasyed",
   "language": "python",
   "name": "dasyed"
  },
  "language_info": {
   "codemirror_mode": {
    "name": "ipython",
    "version": 3
   },
   "file_extension": ".py",
   "mimetype": "text/x-python",
   "name": "python",
   "nbconvert_exporter": "python",
   "pygments_lexer": "ipython3",
   "version": "3.8.1"
  },
  "toc": {
   "base_numbering": 1,
   "nav_menu": {},
   "number_sections": true,
   "sideBar": true,
   "skip_h1_title": false,
   "title_cell": "Table of Contents",
   "title_sidebar": "Contents",
   "toc_cell": false,
   "toc_position": {},
   "toc_section_display": true,
   "toc_window_display": false
  }
 },
 "nbformat": 4,
 "nbformat_minor": 4
}
