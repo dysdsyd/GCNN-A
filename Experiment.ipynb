{
 "cells": [
  {
   "cell_type": "code",
   "execution_count": null,
   "metadata": {},
   "outputs": [],
   "source": [
    "%matplotlib inline\n",
    "%reload_ext autoreload\n",
    "%autoreload 2"
   ]
  },
  {
   "cell_type": "code",
   "execution_count": null,
   "metadata": {},
   "outputs": [],
   "source": [
    "import argparse\n",
    "import logging\n",
    "import os,sys\n",
    "from typing import Type\n",
    "import random \n",
    "from tqdm import tqdm\n",
    "\n",
    "import torch\n",
    "import numpy as np\n",
    "from pytorch3d.structures import Meshes\n",
    "from pytorch3d.io import load_obj, save_obj\n",
    "from pytorch3d.ops import GraphConv"
   ]
  },
  {
   "cell_type": "code",
   "execution_count": null,
   "metadata": {},
   "outputs": [],
   "source": [
    "from gcnna.config import Config\n",
    "from gcnna.models.base_nn import GraphConvClf\n",
    "from gcnna.layers.utils import unpack_mesh_attr, pack_mesh_attr, pad_mesh_attr\n",
    "from scripts.ico_objects import ico_disk"
   ]
  },
  {
   "cell_type": "code",
   "execution_count": null,
   "metadata": {},
   "outputs": [],
   "source": [
    "def load_mesh(tst_obj):\n",
    "    verts, faces, aux = load_obj(tst_obj)\n",
    "    mesh = Meshes(verts=[verts], faces=[faces.verts_idx]).cuda()\n",
    "    return mesh\n",
    "\n",
    "table_pth = '/scratch/jiadeng_root/jiadeng/shared_data/datasets/ShapeNetCore.v1/04379243/1028a9cbaa7a333230bbd4cddd04c77b/model.obj'\n",
    "airplane_pth = '/scratch/jiadeng_root/jiadeng/shared_data/datasets/ShapeNetCore.v1/02691156/105f7f51e4140ee4b6b87e72ead132ed/model.obj'\n",
    "chair_pth = '/scratch/jiadeng_root/jiadeng/shared_data/datasets/ShapeNetCore.v1/03001627/1016f4debe988507589aae130c1f06fb/model.obj'\n",
    "rifle_pth = '/scratch/jiadeng_root/jiadeng/shared_data/datasets/ShapeNetCore.v1/04090263/10439f1f81fbee202be79d8b285c1e//model.obj'\n",
    "table, airplane, chair, rifle = load_mesh(table_pth), load_mesh(airplane_pth), load_mesh(chair_pth), load_mesh(rifle_pth)"
   ]
  },
  {
   "cell_type": "code",
   "execution_count": null,
   "metadata": {},
   "outputs": [],
   "source": [
    "v1, f1, _ = load_obj(table_pth)\n",
    "v2, f2, _ = load_obj(rifle_pth)\n",
    "# mesh = Meshes(verts=[v1,v2], faces=[f1.verts_idx,f2.verts_idx]).cuda()\n",
    "mesh = Meshes(verts=[v1], faces=[f1.verts_idx]).cuda()"
   ]
  },
  {
   "cell_type": "code",
   "execution_count": null,
   "metadata": {},
   "outputs": [],
   "source": [
    "cfg = Config('config/train_clf.yml')\n",
    "clf = GraphConvClf(cfg).cuda()"
   ]
  },
  {
   "cell_type": "code",
   "execution_count": null,
   "metadata": {},
   "outputs": [],
   "source": [
    "clf"
   ]
  },
  {
   "cell_type": "code",
   "execution_count": null,
   "metadata": {},
   "outputs": [],
   "source": [
    "a = clf(mesh)"
   ]
  },
  {
   "cell_type": "code",
   "execution_count": null,
   "metadata": {},
   "outputs": [],
   "source": [
    "mesh = ico_disk().cuda()"
   ]
  },
  {
   "cell_type": "code",
   "execution_count": null,
   "metadata": {},
   "outputs": [],
   "source": [
    "def get_adjacency(verts, edges):\n",
    "    V = verts.shape[0] \n",
    "    e0, e1 = edges.unbind(1)\n",
    "\n",
    "    idx01 = torch.stack([e0, e1], dim=1)  # (sum(E_n), 2)\n",
    "    idx10 = torch.stack([e1, e0], dim=1)  # (sum(E_n), 2)\n",
    "    idx = torch.cat([idx01, idx10], dim=0).t()  # (2, 2*sum(E_n))\n",
    "\n",
    "    # First, we construct the adjacency matrix,\n",
    "    # i.e. A[i, j] = 1 if (i,j) is an edge, or\n",
    "    # A[e0, e1] = 1 &  A[e1, e0] = 1\n",
    "    ones = torch.ones(idx.shape[1], dtype=torch.float32, device=verts.device)\n",
    "    A = torch.sparse.FloatTensor(idx, ones, (V, V))\n",
    "    return A\n",
    "\n",
    "def update_mesh(verts, A, idx):\n",
    "    pass"
   ]
  },
  {
   "cell_type": "code",
   "execution_count": null,
   "metadata": {},
   "outputs": [],
   "source": [
    "def update_mesh(attn_w, verts, edges, mask_idx):\n",
    "    num_nodes = attn_w.size(0)\n",
    "    mask = mask_idx.new_full((num_nodes, ), -1)\n",
    "    i = torch.arange(mask_idx.size(0), dtype=torch.long, device=mask_idx.device)\n",
    "    mask[mask_idx] = i\n",
    "    row, col = edges.unbind(1)\n",
    "    \n",
    "    # update the edges\n",
    "    row, col = mask[row], mask[col]\n",
    "    mask = (row >= 0) & (col >= 0)\n",
    "    row, col = row[mask], col[mask]\n",
    "    edges_updated = torch.stack([row, col], dim=1)\n",
    "    \n",
    "    # update the verts\n",
    "    verts_updated = verts[mask_idx] * torch.tanh(attn_w[mask_idx]).view(-1, 1)\n",
    "    \n",
    "    return verts_updated, edges_updated"
   ]
  },
  {
   "cell_type": "code",
   "execution_count": null,
   "metadata": {},
   "outputs": [],
   "source": [
    "mesh.edges_packed()"
   ]
  },
  {
   "cell_type": "code",
   "execution_count": null,
   "metadata": {},
   "outputs": [],
   "source": [
    "# from pytorch3d.structures.utils import packed_to_list, list_to_padded, padded_to_list, list_to_packed\n",
    "verts = mesh.verts_packed()\n",
    "edges = mesh.edges_packed()\n",
    "verts_idx = mesh.verts_packed_to_mesh_idx()\n",
    "edges_idx = mesh.edges_packed_to_mesh_idx()\n",
    "ratio = 0.5\n",
    "\n",
    "V = verts.shape[0] \n",
    "attn = GraphConv(3,1).cuda()\n",
    "attn_w = attn(verts, edges)\n",
    "\n",
    "# Get list of packed meshes\n",
    "attn_w_unpkd, _  = pad_mesh_attr(verts_idx, attn_w)\n",
    "verts_unpkd, _  = pad_mesh_attr(verts_idx, verts)\n",
    "edges_unpkd, _ = pad_mesh_attr(edges_idx, edges)\n",
    "assert len(attn_w_unpkd) == len(edges_unpkd)\n",
    "B = len(attn_w_unpkd)\n",
    "\n",
    "# verts_upd, edges_upd = [], []\n",
    "# verts_idx_upd, edges_idx_upd = [], []\n",
    "\n",
    "# for i in range(B):\n",
    "#     print('Unpacked: ',attn_w_unpkd[i].shape, edges_unpkd[i].shape)\n",
    "#     _, mask_idx = torch.topk(attn_w_unpkd[i], int(V*ratio), dim=0, sorted=False)  \n",
    "#     mask_idx, _ = torch.sort(mask_idx.view(-1))\n",
    "#     v, e = update_mesh(attn_w_unpkd[i], verts_unpkd[i], edges_unpkd[i], mask_idx)\n",
    "#     verts_upd.append(v)\n",
    "#     edges_upd.append(e)\n",
    "#     verts_idx_upd.append(torch.Tensor([i]*v.shape[0]).to(device=verts_idx.device, dtype=verts_idx.dtype))\n",
    "#     edges_idx_upd.append(torch.Tensor([i]*e.shape[0]).to(device=edges_idx.device, dtype=edges_idx.dtype))\n",
    "    \n",
    "\n",
    "# verts_upd = pack_mesh_attr(verts_upd)\n",
    "# edges_upd = pack_mesh_attr(edges_upd)\n",
    "# verts_idx_upd = pack_mesh_attr(verts_idx_upd)\n",
    "# edges_idx_upd = pack_mesh_attr(edges_idx_upd)\n",
    "# print('Packed: ',verts_pkd.shape, edges_pkd.shape)"
   ]
  },
  {
   "cell_type": "code",
   "execution_count": null,
   "metadata": {},
   "outputs": [],
   "source": [
    "print(attn_w_unpkd.shape, verts_unpkd.shape, edges_unpkd.shape)"
   ]
  },
  {
   "cell_type": "code",
   "execution_count": null,
   "metadata": {},
   "outputs": [],
   "source": []
  },
  {
   "cell_type": "code",
   "execution_count": null,
   "metadata": {},
   "outputs": [],
   "source": []
  },
  {
   "cell_type": "code",
   "execution_count": null,
   "metadata": {},
   "outputs": [],
   "source": []
  },
  {
   "cell_type": "code",
   "execution_count": null,
   "metadata": {},
   "outputs": [],
   "source": []
  },
  {
   "cell_type": "code",
   "execution_count": null,
   "metadata": {},
   "outputs": [],
   "source": []
  },
  {
   "cell_type": "code",
   "execution_count": null,
   "metadata": {},
   "outputs": [],
   "source": [
    "print(attn_w.shape, verts.shape, edges.shape)"
   ]
  },
  {
   "cell_type": "code",
   "execution_count": null,
   "metadata": {},
   "outputs": [],
   "source": [
    "_, mask_idx = torch.topk(attn_w, int(V*ratio), dim=0, sorted=False)  \n",
    "mask_idx, _ = torch.sort(mask_idx.view(-1))\n",
    "mask_idx"
   ]
  },
  {
   "cell_type": "code",
   "execution_count": null,
   "metadata": {},
   "outputs": [],
   "source": [
    "num_nodes = attn_w.size(0)\n",
    "mask = mask_idx.new_full((num_nodes, ), -1)\n",
    "mask"
   ]
  },
  {
   "cell_type": "code",
   "execution_count": null,
   "metadata": {},
   "outputs": [],
   "source": [
    "i = torch.arange(mask_idx.size(0), dtype=torch.long, device=mask_idx.device)\n",
    "i"
   ]
  },
  {
   "cell_type": "code",
   "execution_count": null,
   "metadata": {},
   "outputs": [],
   "source": [
    "mask[mask_idx] = i\n",
    "mask"
   ]
  },
  {
   "cell_type": "code",
   "execution_count": null,
   "metadata": {},
   "outputs": [],
   "source": [
    "row, col = edges.unbind(1)\n",
    "row, col"
   ]
  },
  {
   "cell_type": "code",
   "execution_count": null,
   "metadata": {},
   "outputs": [],
   "source": [
    "row, col = mask[row], mask[col]\n",
    "row, col\n"
   ]
  },
  {
   "cell_type": "code",
   "execution_count": null,
   "metadata": {},
   "outputs": [],
   "source": [
    "mask = (row >= 0) & (col >= 0)\n",
    "mask"
   ]
  },
  {
   "cell_type": "code",
   "execution_count": null,
   "metadata": {},
   "outputs": [],
   "source": [
    "row, col = row[mask], col[mask]\n",
    "row, col"
   ]
  },
  {
   "cell_type": "code",
   "execution_count": null,
   "metadata": {},
   "outputs": [],
   "source": []
  },
  {
   "cell_type": "code",
   "execution_count": null,
   "metadata": {},
   "outputs": [],
   "source": []
  },
  {
   "cell_type": "code",
   "execution_count": null,
   "metadata": {},
   "outputs": [],
   "source": []
  },
  {
   "cell_type": "code",
   "execution_count": null,
   "metadata": {},
   "outputs": [],
   "source": []
  },
  {
   "cell_type": "code",
   "execution_count": null,
   "metadata": {},
   "outputs": [],
   "source": [
    "from gcnna.layers.norm import BatchNorm\n",
    "from pytorch3d.ops import GraphConv\n",
    "from torch.optim.lr_scheduler import CosineAnnealingWarmRestarts"
   ]
  },
  {
   "cell_type": "code",
   "execution_count": null,
   "metadata": {},
   "outputs": [],
   "source": [
    "bn = BatchNorm(3)"
   ]
  },
  {
   "cell_type": "code",
   "execution_count": null,
   "metadata": {},
   "outputs": [],
   "source": [
    "bn"
   ]
  },
  {
   "cell_type": "code",
   "execution_count": null,
   "metadata": {},
   "outputs": [],
   "source": [
    "g = GraphConv(3,7)"
   ]
  },
  {
   "cell_type": "code",
   "execution_count": null,
   "metadata": {},
   "outputs": [],
   "source": [
    "g"
   ]
  },
  {
   "cell_type": "code",
   "execution_count": null,
   "metadata": {},
   "outputs": [],
   "source": []
  },
  {
   "cell_type": "code",
   "execution_count": null,
   "metadata": {},
   "outputs": [],
   "source": [
    "optimizer = torch.optim.Adam(\n",
    "    clf.parameters(),\n",
    "    lr=1,\n",
    ")"
   ]
  },
  {
   "cell_type": "code",
   "execution_count": null,
   "metadata": {},
   "outputs": [],
   "source": [
    "optimizer.step()"
   ]
  },
  {
   "cell_type": "code",
   "execution_count": null,
   "metadata": {},
   "outputs": [],
   "source": [
    "optimizer.state_dict()['param_groups']"
   ]
  },
  {
   "cell_type": "code",
   "execution_count": null,
   "metadata": {},
   "outputs": [],
   "source": [
    "scheduler = CosineAnnealingWarmRestarts(optimizer, T_0 = 4, T_mult=1, eta_min=1e-6, last_epoch=-1)"
   ]
  },
  {
   "cell_type": "code",
   "execution_count": null,
   "metadata": {},
   "outputs": [],
   "source": [
    "scheduler.get_lr()"
   ]
  },
  {
   "cell_type": "code",
   "execution_count": null,
   "metadata": {},
   "outputs": [],
   "source": [
    "verts = mesh.verts_packed()\n",
    "edges = mesh.edges_packed()\n",
    "verts_idx = mesh.verts_packed_to_mesh_idx()\n",
    "edges_idx = mesh.edges_packed_to_mesh_idx()"
   ]
  },
  {
   "cell_type": "code",
   "execution_count": null,
   "metadata": {},
   "outputs": [],
   "source": [
    "edges_idx.detach()"
   ]
  },
  {
   "cell_type": "code",
   "execution_count": null,
   "metadata": {},
   "outputs": [],
   "source": [
    "row, col = row[mask], col[mask]\n",
    "row, col"
   ]
  },
  {
   "cell_type": "code",
   "execution_count": null,
   "metadata": {},
   "outputs": [],
   "source": []
  },
  {
   "cell_type": "code",
   "execution_count": null,
   "metadata": {},
   "outputs": [],
   "source": []
  },
  {
   "cell_type": "code",
   "execution_count": null,
   "metadata": {},
   "outputs": [],
   "source": []
  },
  {
   "cell_type": "code",
   "execution_count": null,
   "metadata": {},
   "outputs": [],
   "source": [
    "from gcnna.layers.pooling import SAGPool"
   ]
  },
  {
   "cell_type": "code",
   "execution_count": null,
   "metadata": {},
   "outputs": [],
   "source": [
    "s = SAGPool(3)"
   ]
  },
  {
   "cell_type": "code",
   "execution_count": null,
   "metadata": {},
   "outputs": [],
   "source": [
    "'SAGPool' in str(s)"
   ]
  },
  {
   "cell_type": "code",
   "execution_count": null,
   "metadata": {},
   "outputs": [],
   "source": [
    "torch.Tensor([0]*100).to(device=verts_idx.device, dtype=verts_idx.dtype)"
   ]
  },
  {
   "cell_type": "code",
   "execution_count": null,
   "metadata": {},
   "outputs": [],
   "source": [
    "verts_idx.device"
   ]
  },
  {
   "cell_type": "code",
   "execution_count": 42,
   "metadata": {},
   "outputs": [],
   "source": [
    "import cv2"
   ]
  },
  {
   "cell_type": "code",
   "execution_count": null,
   "metadata": {},
   "outputs": [],
   "source": []
  }
 ],
 "metadata": {
  "kernelspec": {
   "display_name": "dasyed",
   "language": "python",
   "name": "dasyed"
  },
  "language_info": {
   "codemirror_mode": {
    "name": "ipython",
    "version": 3
   },
   "file_extension": ".py",
   "mimetype": "text/x-python",
   "name": "python",
   "nbconvert_exporter": "python",
   "pygments_lexer": "ipython3",
   "version": "3.8.1"
  }
 },
 "nbformat": 4,
 "nbformat_minor": 4
}
