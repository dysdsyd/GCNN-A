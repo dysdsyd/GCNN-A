{
 "cells": [
  {
   "cell_type": "code",
   "execution_count": 2,
   "metadata": {},
   "outputs": [],
   "source": [
    "import torch\n",
    "from pytorch3d.io import load_obj, save_obj\n",
    "import os\n",
    "from tqdm import tqdm\n",
    "from scipy import ndimage\n",
    "import imageio\n",
    "import matplotlib.pyplot as plt\n",
    "from PIL import Image, ImageSequence\n",
    "import visdom\n",
    "import numpy as np"
   ]
  },
  {
   "cell_type": "code",
   "execution_count": 3,
   "metadata": {},
   "outputs": [],
   "source": [
    "path_sphere = '/scratch/jiadeng_root/jiadeng/dasyed/results_dreaming_sphere/'#results_dreaming_gconv0_0/test_dream.obj'\n",
    "path_plane = '/scratch/jiadeng_root/jiadeng/dasyed/results_dreaming_plane/'"
   ]
  },
  {
   "cell_type": "code",
   "execution_count": 4,
   "metadata": {},
   "outputs": [
    {
     "ename": "NameError",
     "evalue": "name 'vis_plane_gconv0' is not defined",
     "output_type": "error",
     "traceback": [
      "\u001b[0;31m---------------------------------------------------------------------------\u001b[0m",
      "\u001b[0;31mNameError\u001b[0m                                 Traceback (most recent call last)",
      "\u001b[0;32m<ipython-input-4-e7de1ea445c8>\u001b[0m in \u001b[0;36m<module>\u001b[0;34m\u001b[0m\n\u001b[0;32m----> 1\u001b[0;31m \u001b[0mvis_plane_gconv0\u001b[0m\u001b[0;34m.\u001b[0m\u001b[0mdelete_env\u001b[0m\u001b[0;34m(\u001b[0m\u001b[0menv\u001b[0m \u001b[0;34m=\u001b[0m \u001b[0mvis_sphere_gconv0\u001b[0m\u001b[0;34m.\u001b[0m\u001b[0menv\u001b[0m\u001b[0;34m)\u001b[0m\u001b[0;34m\u001b[0m\u001b[0;34m\u001b[0m\u001b[0m\n\u001b[0m\u001b[1;32m      2\u001b[0m \u001b[0mvis_plane_gconv1\u001b[0m\u001b[0;34m.\u001b[0m\u001b[0mdelete_env\u001b[0m\u001b[0;34m(\u001b[0m\u001b[0menv\u001b[0m \u001b[0;34m=\u001b[0m \u001b[0mvis_sphere_gconv1\u001b[0m\u001b[0;34m.\u001b[0m\u001b[0menv\u001b[0m\u001b[0;34m)\u001b[0m\u001b[0;34m\u001b[0m\u001b[0;34m\u001b[0m\u001b[0m\n\u001b[1;32m      3\u001b[0m \u001b[0mvis_plane_gconv2\u001b[0m\u001b[0;34m.\u001b[0m\u001b[0mdelete_env\u001b[0m\u001b[0;34m(\u001b[0m\u001b[0menv\u001b[0m \u001b[0;34m=\u001b[0m \u001b[0mvis_sphere_gconv2\u001b[0m\u001b[0;34m.\u001b[0m\u001b[0menv\u001b[0m\u001b[0;34m)\u001b[0m\u001b[0;34m\u001b[0m\u001b[0;34m\u001b[0m\u001b[0m\n\u001b[1;32m      4\u001b[0m \u001b[0;34m\u001b[0m\u001b[0m\n\u001b[1;32m      5\u001b[0m \u001b[0mvis_sphere_gconv0\u001b[0m\u001b[0;34m.\u001b[0m\u001b[0mdelete_env\u001b[0m\u001b[0;34m(\u001b[0m\u001b[0menv\u001b[0m \u001b[0;34m=\u001b[0m \u001b[0mvis_sphere_gconv0\u001b[0m\u001b[0;34m.\u001b[0m\u001b[0menv\u001b[0m\u001b[0;34m)\u001b[0m\u001b[0;34m\u001b[0m\u001b[0;34m\u001b[0m\u001b[0m\n",
      "\u001b[0;31mNameError\u001b[0m: name 'vis_plane_gconv0' is not defined"
     ]
    }
   ],
   "source": [
    "vis_plane_gconv0.delete_env(env = vis_sphere_gconv0.env)\n",
    "vis_plane_gconv1.delete_env(env = vis_sphere_gconv1.env)\n",
    "vis_plane_gconv2.delete_env(env = vis_sphere_gconv2.env)\n",
    "\n",
    "vis_sphere_gconv0.delete_env(env = vis_sphere_gconv0.env)\n",
    "vis_sphere_gconv1.delete_env(env = vis_sphere_gconv1.env)\n",
    "vis_sphere_gconv2.delete_env(env = vis_sphere_gconv2.env)"
   ]
  },
  {
   "cell_type": "code",
   "execution_count": 5,
   "metadata": {},
   "outputs": [
    {
     "name": "stderr",
     "output_type": "stream",
     "text": [
      "Setting up a new session...\n",
      "Setting up a new session...\n",
      "Setting up a new session...\n",
      "Setting up a new session...\n",
      "Setting up a new session...\n",
      "Setting up a new session...\n"
     ]
    }
   ],
   "source": [
    "\n",
    "vis_plane_gconv0 = visdom.Visdom(env='deepdream_plane_gconv0')\n",
    "vis_plane_gconv1 = visdom.Visdom(env='deepdream_plane_gconv1')\n",
    "vis_plane_gconv2 = visdom.Visdom(env='deepdream_plane_gconv2')\n",
    "\n",
    "vis_sphere_gconv0 = visdom.Visdom(env='deepdream_sphere_gconv0')\n",
    "vis_sphere_gconv1 = visdom.Visdom(env='deepdream_sphere_gconv1')\n",
    "vis_sphere_gconv2 = visdom.Visdom(env='deepdream_sphere_gconv2')"
   ]
  },
  {
   "cell_type": "code",
   "execution_count": 6,
   "metadata": {},
   "outputs": [],
   "source": [
    "def open_gifs(pth):\n",
    "    img = Image.open(pth)\n",
    "    frames = np.array([np.array(frame.copy().convert('RGB').getdata(),dtype=np.uint8).reshape(frame.size[1],frame.size[0],3) for frame in ImageSequence.Iterator(img)])\n",
    "    return torch.Tensor(frames)"
   ]
  },
  {
   "cell_type": "code",
   "execution_count": 7,
   "metadata": {},
   "outputs": [],
   "source": [
    "def plot_mesh(dir, vis, layer):\n",
    "    path = [i for i in os.listdir(dir) if layer in i]\n",
    "    path = sorted(path, key=lambda x: int(x.split('_')[-1]))\n",
    "    for exp in tqdm(path):\n",
    "        mesh_path = os.path.join(dir, exp, 'test_dream.obj')\n",
    "        mesh = load_obj(mesh_path)\n",
    "        params = {'title': exp, 'opacity':0.5, 'webgl':True}\n",
    "        vis.mesh(mesh[0], mesh[1].verts_idx, opts = params)\n",
    "#         gif_path = os.path.join(dir, exp, 'test_dreamiter_499.gif')\n",
    "#         imtensor = open_gifs(gif_path)\n",
    "#         vis.image(imtensor[0], opts = params)"
   ]
  },
  {
   "cell_type": "code",
   "execution_count": null,
   "metadata": {},
   "outputs": [],
   "source": [
    "plot_mesh(path_plane, vis_plane_gconv0, 'gconv0')\n",
    "plot_mesh(path_plane, vis_plane_gconv1, 'gconv1')\n",
    "plot_mesh(path_plane, vis_plane_gconv2, 'gconv2')"
   ]
  },
  {
   "cell_type": "code",
   "execution_count": null,
   "metadata": {},
   "outputs": [],
   "source": [
    "plot_mesh(path_sphere, vis_sphere_gconv0, 'gconv0')\n",
    "plot_mesh(path_sphere, vis_sphere_gconv1, 'gconv1')\n",
    "plot_mesh(path_sphere, vis_sphere_gconv2, 'gconv2')"
   ]
  },
  {
   "cell_type": "code",
   "execution_count": null,
   "metadata": {},
   "outputs": [],
   "source": [
    "from tensorboard.plugins.mesh import summary as mesh_summary"
   ]
  },
  {
   "cell_type": "code",
   "execution_count": null,
   "metadata": {},
   "outputs": [],
   "source": [
    "path = [i for i in os.listdir(path_sphere)][0]\n",
    "mesh_path = os.path.join(path_sphere, path, 'test_dreamiter_499.gif')\n",
    "# mesh = load_obj(mesh_path)"
   ]
  },
  {
   "cell_type": "code",
   "execution_count": null,
   "metadata": {},
   "outputs": [],
   "source": [
    "mesh_path"
   ]
  },
  {
   "cell_type": "code",
   "execution_count": null,
   "metadata": {},
   "outputs": [],
   "source": [
    "<img src=mesh_path/>"
   ]
  },
  {
   "cell_type": "code",
   "execution_count": null,
   "metadata": {},
   "outputs": [],
   "source": [
    "mesh_summary.op('mesh',vertices=mesh[0].unsqueeze(0), faces=mesh[1].verts_idx.unsqueeze(0))"
   ]
  },
  {
   "cell_type": "code",
   "execution_count": 14,
   "metadata": {},
   "outputs": [
    {
     "data": {
      "text/plain": [
       "'window_385480d0bcce3a'"
      ]
     },
     "execution_count": 14,
     "metadata": {},
     "output_type": "execute_result"
    }
   ],
   "source": [
    "vis_plane_gconv0.text('<img src=\"https://media.giphy.com/media/iii3EL3YYN6t4m7Mx5/giphy.gif\" alt=\"this slowpoke moves\"  width=\"250\" alt=\"404 image\"/>')"
   ]
  },
  {
   "cell_type": "code",
   "execution_count": null,
   "metadata": {},
   "outputs": [],
   "source": [
    "os.chdir('/scratch/')"
   ]
  },
  {
   "cell_type": "code",
   "execution_count": 13,
   "metadata": {},
   "outputs": [
    {
     "data": {
      "text/plain": [
       "'window_385480b8ea4fee'"
      ]
     },
     "execution_count": 13,
     "metadata": {},
     "output_type": "execute_result"
    }
   ],
   "source": [
    "vis_plane_gconv0.text('<img src=\"test_dreamiter_499.gif\" width=\"250\"/>')"
   ]
  },
  {
   "cell_type": "code",
   "execution_count": null,
   "metadata": {},
   "outputs": [],
   "source": [
    "https://media.giphy.com/media/6901DbEbbm4o0/giphy.gif"
   ]
  },
  {
   "cell_type": "markdown",
   "metadata": {},
   "source": [
    "<img src=\"test_dreamiter_499.gif\"/>"
   ]
  },
  {
   "cell_type": "markdown",
   "metadata": {},
   "source": [
    "<img src=\"https://media.giphy.com/media/iii3EL3YYN6t4m7Mx5/giphy.gif\"/>"
   ]
  },
  {
   "cell_type": "code",
   "execution_count": null,
   "metadata": {},
   "outputs": [],
   "source": []
  },
  {
   "cell_type": "code",
   "execution_count": null,
   "metadata": {},
   "outputs": [],
   "source": [
    "!chmod 777 -R jiadeng_root/jiadeng/dasyed/"
   ]
  },
  {
   "cell_type": "code",
   "execution_count": null,
   "metadata": {},
   "outputs": [],
   "source": []
  }
 ],
 "metadata": {
  "kernelspec": {
   "display_name": "dasyed",
   "language": "python",
   "name": "dasyed"
  },
  "language_info": {
   "codemirror_mode": {
    "name": "ipython",
    "version": 3
   },
   "file_extension": ".py",
   "mimetype": "text/x-python",
   "name": "python",
   "nbconvert_exporter": "python",
   "pygments_lexer": "ipython3",
   "version": "3.8.1"
  }
 },
 "nbformat": 4,
 "nbformat_minor": 4
}
