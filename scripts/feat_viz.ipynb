{
 "cells": [
  {
   "cell_type": "code",
   "execution_count": null,
   "metadata": {},
   "outputs": [],
   "source": [
    "import os, sys\n",
    "sys.path.append('../')\n",
    "sys.path.append('../../SICGAN/')\n",
    "sys.path.append('../../meshrcnn/')\n",
    "import argparse\n",
    "import random \n",
    "import numpy as np\n",
    "from tqdm import tqdm\n",
    "import torch\n",
    "import re, yaml, pickle\n",
    "from torch import nn, optim\n",
    "from torch.autograd import Variable\n",
    "from pytorch3d.structures import Meshes\n",
    "from pytorch3d.utils import ico_sphere\n",
    "from pytorch3d.ops import sample_points_from_meshes\n",
    "from pytorch3d.io import load_obj, save_obj\n",
    "from pytorch3d.loss import mesh_laplacian_smoothing, mesh_edge_loss\n",
    "from style_transfer.config import Config\n",
    "from style_transfer.models.base_nn import GraphConvClf\n",
    "from style_transfer.config import Config\n",
    "from style_transfer.utils.torch_utils import train_val_split, save_checkpoint, accuracy\n",
    "from mpl_toolkits.mplot3d import Axes3D\n",
    "import matplotlib.pyplot as plt\n",
    "import matplotlib as mpl\n",
    "import matplotlib.animation #import FuncAnimation\n",
    "from matplotlib.animation import FuncAnimation\n",
    "from collections import OrderedDict\n",
    "from ico_objects import ico_disk\n",
    "mpl.rcParams['savefig.dpi'] = 80\n",
    "mpl.rcParams['figure.dpi'] = 80\n",
    "import warnings\n",
    "warnings.filterwarnings(\"ignore\")\n",
    "device = torch.device(\"cuda\")\n",
    "from IPython.core.display import display, HTML\n",
    "display(HTML(\"<style>.container { width:80% !important; }</style>\"))"
   ]
  },
  {
   "cell_type": "code",
   "execution_count": null,
   "metadata": {},
   "outputs": [],
   "source": [
    "from plotly.offline import plot, iplot, init_notebook_mode\n",
    "import plotly.graph_objects as go\n",
    "init_notebook_mode(connected=True)"
   ]
  },
  {
   "cell_type": "code",
   "execution_count": null,
   "metadata": {},
   "outputs": [],
   "source": [
    "def plot_pointcloud(mesh, title=\"\"):\n",
    "    # Sample points uniformly from the surface of the mesh.\n",
    "    points = sample_points_from_meshes(mesh, 5000)\n",
    "    x, y, z = points.clone().detach().cpu().squeeze().unbind(1)    \n",
    "    fig = plt.figure(figsize=(5, 5))\n",
    "    ax = Axes3D(fig)\n",
    "    ax.scatter3D(x, z, -y)\n",
    "    ax.set_xlabel('x')\n",
    "    ax.set_ylabel('z')\n",
    "    ax.set_zlabel('y')\n",
    "    ax.set_title(title)\n",
    "    ax.view_init(190, 30)\n",
    "    plt.savefig(title+'.png')"
   ]
  },
  {
   "cell_type": "code",
   "execution_count": null,
   "metadata": {},
   "outputs": [],
   "source": [
    "from PyGEL3D import gel\n",
    "from PyGEL3D import js\n",
    "def plot_mesh(mesh):\n",
    "    save_obj('mesh.obj', mesh.verts_packed(), mesh.faces_packed())\n",
    "    js.set_export_mode()\n",
    "    m = gel.obj_load('mesh.obj')\n",
    "    js.display(m, smooth=False)"
   ]
  },
  {
   "cell_type": "code",
   "execution_count": null,
   "metadata": {},
   "outputs": [],
   "source": [
    "def plot_mesh_plt(mesh, title=\"\"):\n",
    "    # Sample points uniformly from the surface of the mesh.\n",
    "    verts = mesh.verts_packed().cpu()\n",
    "    faces = mesh.faces_packed().cpu()\n",
    "    x = verts[:,0]\n",
    "    y = verts[:,1]\n",
    "    z = verts[:,2]\n",
    "    i = faces[:,0]\n",
    "    j = faces[:,1]\n",
    "    k = faces[:,2]\n",
    "    fig = plt.figure(figsize=(5, 5))\n",
    "    ax = Axes3D(fig)\n",
    "    ax.plot_trisurf(x, y, z, triangles = [i,j,k])\n",
    "    ax.set_title(title)\n",
    "    ax.view_init(120, 25)\n",
    "    plt.show()\n",
    "    \n",
    "def gif_pointcloud(mesh, title=\"\"):\n",
    "    # Sample points uniformly from the surface of the mesh.\n",
    "    points = sample_points_from_meshes(mesh, 5000)\n",
    "    x, y, z = points.clone().detach().cpu().squeeze().unbind(1)    \n",
    "    fig = plt.figure(figsize=(5, 5))\n",
    "    ax = Axes3D(fig)\n",
    "    ax.scatter3D(x, z, -y)\n",
    "    ax.set_xlabel('x')\n",
    "    ax.set_ylabel('z')\n",
    "    ax.set_zlabel('y')\n",
    "    ax.set_title(title)\n",
    "    def update(i):\n",
    "        ax.view_init(190,i)\n",
    "    anim = FuncAnimation(fig, update, frames=np.arange(0, 100), interval=200)"
   ]
  },
  {
   "cell_type": "code",
   "execution_count": null,
   "metadata": {},
   "outputs": [],
   "source": [
    "def load_mesh(tst_obj):\n",
    "    verts, faces, aux = load_obj(tst_obj)\n",
    "    mesh = Meshes(verts=[verts], faces=[faces.verts_idx]).cuda()\n",
    "    return mesh"
   ]
  },
  {
   "cell_type": "code",
   "execution_count": null,
   "metadata": {},
   "outputs": [],
   "source": [
    "def plot_mesh_plotly(mesh):\n",
    "    verts = mesh.verts_packed().cpu()\n",
    "    faces = mesh.faces_packed().cpu()\n",
    "    fig = go.Figure(data=[\n",
    "        go.Mesh3d(\n",
    "            opacity = 0.5,\n",
    "            flatshading=True,\n",
    "            x = verts[:,0],\n",
    "            y = verts[:,1],\n",
    "            z = verts[:,2],\n",
    "            i = faces[:,0],\n",
    "            j = faces[:,1],\n",
    "            k = faces[:,2]\n",
    "        )\n",
    "    ])\n",
    "    fig.show()"
   ]
  },
  {
   "cell_type": "code",
   "execution_count": null,
   "metadata": {},
   "outputs": [],
   "source": [
    "table_pth = '/scratch/jiadeng_root/jiadeng/shared_data/datasets/ShapeNetCore.v1/04379243/1028a9cbaa7a333230bbd4cddd04c77b/model.obj'\n",
    "airplane_pth = '/scratch/jiadeng_root/jiadeng/shared_data/datasets/ShapeNetCore.v1/02691156/105f7f51e4140ee4b6b87e72ead132ed/model.obj'\n",
    "chair_pth = '/scratch/jiadeng_root/jiadeng/shared_data/datasets/ShapeNetCore.v1/03001627/1016f4debe988507589aae130c1f06fb/model.obj'\n",
    "rifle_pth = '/scratch/jiadeng_root/jiadeng/shared_data/datasets/ShapeNetCore.v1/04090263/10439f1f81fbee202be79d8b285c1e//model.obj'\n",
    "table, airplane, chair, rifle = load_mesh(table_pth), load_mesh(airplane_pth), load_mesh(chair_pth), load_mesh(rifle_pth)\n",
    "disk = ico_disk(level=0, device=device)"
   ]
  },
  {
   "cell_type": "code",
   "execution_count": null,
   "metadata": {},
   "outputs": [],
   "source": []
  },
  {
   "cell_type": "code",
   "execution_count": null,
   "metadata": {},
   "outputs": [],
   "source": []
  },
  {
   "cell_type": "code",
   "execution_count": null,
   "metadata": {},
   "outputs": [],
   "source": []
  },
  {
   "cell_type": "code",
   "execution_count": null,
   "metadata": {},
   "outputs": [],
   "source": []
  },
  {
   "cell_type": "code",
   "execution_count": null,
   "metadata": {},
   "outputs": [],
   "source": []
  },
  {
   "cell_type": "code",
   "execution_count": null,
   "metadata": {},
   "outputs": [],
   "source": []
  },
  {
   "cell_type": "code",
   "execution_count": null,
   "metadata": {},
   "outputs": [],
   "source": []
  },
  {
   "cell_type": "code",
   "execution_count": null,
   "metadata": {},
   "outputs": [],
   "source": [
    "from shapenet.modeling.mesh_arch import Pixel2MeshHead\n",
    "from shapenet.config import Config as pix_Config"
   ]
  },
  {
   "cell_type": "code",
   "execution_count": null,
   "metadata": {},
   "outputs": [],
   "source": [
    "pix_C = pix_Config('../../meshrcnn/configs/shapenet/pixel2mesh_R50.yaml', [])"
   ]
  },
  {
   "cell_type": "code",
   "execution_count": null,
   "metadata": {},
   "outputs": [],
   "source": [
    "a = torch.load('pixel2mesh_R50.pth')[\"best_states\"][\"model\"]\n",
    "sd = OrderedDict([(k.replace('module.',''), v) for k, v in a.items()])"
   ]
  },
  {
   "cell_type": "code",
   "execution_count": null,
   "metadata": {},
   "outputs": [],
   "source": [
    "G = Pixel2MeshHead(pix_C).cuda()\n",
    "G.load_state_dict(sd)"
   ]
  },
  {
   "cell_type": "code",
   "execution_count": null,
   "metadata": {},
   "outputs": [],
   "source": [
    "G.mesh_head"
   ]
  },
  {
   "cell_type": "code",
   "execution_count": null,
   "metadata": {},
   "outputs": [],
   "source": []
  },
  {
   "cell_type": "code",
   "execution_count": null,
   "metadata": {},
   "outputs": [],
   "source": []
  },
  {
   "cell_type": "code",
   "execution_count": null,
   "metadata": {},
   "outputs": [],
   "source": []
  },
  {
   "cell_type": "code",
   "execution_count": null,
   "metadata": {},
   "outputs": [],
   "source": []
  },
  {
   "cell_type": "code",
   "execution_count": null,
   "metadata": {},
   "outputs": [],
   "source": []
  },
  {
   "cell_type": "code",
   "execution_count": null,
   "metadata": {},
   "outputs": [],
   "source": []
  },
  {
   "cell_type": "code",
   "execution_count": null,
   "metadata": {},
   "outputs": [],
   "source": [
    "device = torch.device(\"cuda:0\")\n",
    "#device = torch.device(\"cpu\")\n",
    "#\n",
    "## load in trained graph convolutional NN classification model\n",
    "graphconv_model_path = '../results/model/exp_03_17_00_51_59_10classes'\n",
    "#content_mesh_path = args.filename_obj\n",
    "idx_best_loss=16\n",
    "#LAYER_ID = 1\n",
    "#NODE_ID = 100\n",
    "ITERS = 400  \n",
    "MESH_LR =1.0\n",
    "\n",
    "cfg = Config('../config/style_transfer_train.yml')\n",
    "#\n",
    "## SET UP model and optimizer\n",
    "classification_model = GraphConvClf(cfg).cuda()\n",
    "classification_model.load_state_dict(torch.load(graphconv_model_path+'/model@epoch'+str(idx_best_loss)+'.pkl')['state_dict'])\n",
    "for pp in classification_model.parameters():\n",
    "    pp.requires_grad=False"
   ]
  },
  {
   "cell_type": "code",
   "execution_count": null,
   "metadata": {},
   "outputs": [],
   "source": [
    "trg_features =  classification_model.get_forward_feats(mesh=airplane, layername='gconv2')"
   ]
  },
  {
   "cell_type": "code",
   "execution_count": null,
   "metadata": {},
   "outputs": [],
   "source": [
    "def gconv_loss(verts, edges, classification_model, layer_name='gonv0', feat=None, method='deepdream', target=airplane):\n",
    "    ii = int(layer_name[-1])\n",
    "    if ii != 0: \n",
    "        i = ii-1\n",
    "        verts = classification_model.get_forward_feats(mesh=None,verts=verts, edges=edges ,layername='gconv'+str(i))\n",
    "            \n",
    "    center_verts = verts[0]\n",
    "    neighbor_verts = verts[1:9]\n",
    "    center_verts = classification_model.gconvs[ii].w0(center_verts)\n",
    "    neighbor_verts = classification_model.gconvs[ii].w1(neighbor_verts)\n",
    "    ##\n",
    "    nnfeatures = center_verts + torch.sum(neighbor_verts, dim=0)\n",
    "    if method=='feat_inv':\n",
    "        trg_features =  classification_model.get_forward_feats(mesh=target, layername=layer_name)\n",
    "#         trg_feat = torch.mean(trg_features, dim=0).cuda()\n",
    "        trg_feat = trg_features[trg_features.norm(dim=0).argmax(), :]\n",
    "        loss = torch.mean((nnfeatures - trg_feat)**2)\n",
    "    elif method=='deepdream':\n",
    "        loss = nnfeatures[feat].norm()\n",
    "    return loss"
   ]
  },
  {
   "cell_type": "code",
   "execution_count": null,
   "metadata": {},
   "outputs": [],
   "source": [
    "src_mesh = ico_disk(level=1).cuda()\n",
    "plot_mesh_plt(src_mesh)\n",
    "verts = src_mesh.verts_packed()\n",
    "faces = src_mesh.faces_packed()\n",
    "edges = src_mesh.edges_packed()\n",
    "which_layer = 'gconv0'\n",
    "target = airplane\n",
    "method='deepdream'\n",
    "which_feature = 1\n",
    "# offset_verts = torch.full(verts.shape, 0.0, device=device, requires_grad=True)\n",
    "verts = Variable(verts, requires_grad=True)\n",
    "classification_model.zero_grad()\n",
    "initial_lr = 3.0\n",
    "decayed_lr = 0.1\n",
    "decay_lr_at = 100\n",
    "# optimizer = torch.optim.Adam([offset_verts], lr=initial_lr)"
   ]
  },
  {
   "cell_type": "code",
   "execution_count": null,
   "metadata": {},
   "outputs": [],
   "source": [
    " for which_feature in range(1):\n",
    "        for i in range(10):\n",
    "            new_verts = verts\n",
    "            loss = gconv_loss(new_verts, edges, classification_model, which_layer, which_feature, method, target)\n",
    "#             if i%50==0:\n",
    "            mode_mesh = Meshes(verts=[new_verts], faces=[faces])\n",
    "#             loss += 1*mesh_edge_loss(mode_mesh)\n",
    "            print(loss.item())\n",
    "            loss.backward()\n",
    "            verts.data -= 1e-9*verts.grad.data\n",
    "    #     m = Meshes([verts.detach()], [faces])\n",
    "    #     plot_mesh_plt(m)\n",
    "    #     plt.show()"
   ]
  },
  {
   "cell_type": "code",
   "execution_count": null,
   "metadata": {
    "scrolled": true
   },
   "outputs": [],
   "source": [
    "m = Meshes([verts.detach()], [faces])\n",
    "plot_mesh_plt(m)"
   ]
  },
  {
   "cell_type": "code",
   "execution_count": null,
   "metadata": {},
   "outputs": [],
   "source": [
    "plot_mesh(m)"
   ]
  },
  {
   "cell_type": "code",
   "execution_count": null,
   "metadata": {},
   "outputs": [],
   "source": []
  }
 ],
 "metadata": {
  "kernelspec": {
   "display_name": "dasyed",
   "language": "python",
   "name": "dasyed"
  },
  "language_info": {
   "codemirror_mode": {
    "name": "ipython",
    "version": 3
   },
   "file_extension": ".py",
   "mimetype": "text/x-python",
   "name": "python",
   "nbconvert_exporter": "python",
   "pygments_lexer": "ipython3",
   "version": "3.8.1"
  }
 },
 "nbformat": 4,
 "nbformat_minor": 4
}
